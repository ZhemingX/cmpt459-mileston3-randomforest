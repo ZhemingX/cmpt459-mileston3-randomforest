{
 "cells": [
  {
   "cell_type": "code",
   "execution_count": 126,
   "metadata": {},
   "outputs": [],
   "source": [
    "# CMPT459 2020 spring\n",
    "# milestone3\n",
    "# randomforest classifier\n",
    "# group name: Salt\n",
    "\n",
    "import pandas as pd\n",
    "import numpy as np\n",
    "import seaborn as sns\n",
    "import matplotlib.pyplot as plt\n",
    "import matplotlib.image as mpimg\n",
    "import os\n",
    "%matplotlib inline\n",
    "from sklearn import model_selection, preprocessing, ensemble\n",
    "from sklearn.metrics import log_loss\n",
    "from sklearn.feature_extraction.text import TfidfVectorizer, CountVectorizer\n",
    "from sklearn import svm\n",
    "from sklearn.model_selection import cross_val_score\n",
    "from sklearn.model_selection import RepeatedKFold, KFold\n",
    "from sklearn.feature_selection import mutual_info_classif, f_classif\n",
    "from sklearn.preprocessing import OneHotEncoder\n",
    "from sklearn.decomposition import PCA\n",
    "from sklearn.model_selection import GridSearchCV\n",
    "from sklearn.ensemble import RandomForestClassifier\n",
    "from sklearn.ensemble import ExtraTreesClassifier\n",
    "from sklearn.feature_selection import SelectFromModel\n",
    "from sklearn.model_selection import train_test_split\n",
    "from sklearn.metrics import confusion_matrix\n",
    "from sklearn.metrics import precision_score, recall_score\n",
    "from sklearn.metrics import accuracy_score\n",
    "\n",
    "def outlier_fd(data, threshold=0.5):\n",
    "    low, high = np.percentile(data,1), np.percentile(data, 99)\n",
    "    dist = high - low\n",
    "    cut_off = dist * threshold\n",
    "    lower, upper = low-cut_off, high+cut_off\n",
    "    return [lower, upper]\n",
    "\n",
    "def photos_number_counter(x):\n",
    "    return len(x)\n",
    "\n",
    "def valid_des(s):\n",
    "    valid_s = \" \"\n",
    "    for i in s.split():\n",
    "        if i.isalnum():\n",
    "            valid_s = \" \".join([valid_s, i])\n",
    "            \n",
    "    return valid_s.strip()\n"
   ]
  },
  {
   "cell_type": "code",
   "execution_count": 2,
   "metadata": {},
   "outputs": [],
   "source": [
    "train = pd.read_json('train.json')\n",
    "test = pd.read_json('test.json')"
   ]
  },
  {
   "cell_type": "markdown",
   "metadata": {},
   "source": [
    "# Data Preprocess"
   ]
  },
  {
   "cell_type": "code",
   "execution_count": 3,
   "metadata": {},
   "outputs": [],
   "source": [
    "# data cleaned and feature selection and numericalization for classifier\n",
    "ptrain = train\n",
    "ptest = test\n",
    "ptrain = ptrain.drop(['interest_level'], axis = 1)\n",
    "pwhole = ptrain.append(ptest)"
   ]
  },
  {
   "cell_type": "code",
   "execution_count": 4,
   "metadata": {},
   "outputs": [
    {
     "name": "stderr",
     "output_type": "stream",
     "text": [
      "C:\\AAA\\lib\\site-packages\\pandas\\core\\indexing.py:205: SettingWithCopyWarning: \n",
      "A value is trying to be set on a copy of a slice from a DataFrame\n",
      "\n",
      "See the caveats in the documentation: http://pandas.pydata.org/pandas-docs/stable/user_guide/indexing.html#returning-a-view-versus-a-copy\n",
      "  self._setitem_with_indexer(indexer, value)\n"
     ]
    }
   ],
   "source": [
    "#Find the outlier of price, latitude and longitude using bound given by outlier_fd\n",
    "[price_lower, price_higher] = outlier_fd(ptrain['price'])\n",
    "[latitude_lower, latitude_higher] = outlier_fd(ptrain['latitude'],1)\n",
    "[longitude_lower, longitude_higher] = outlier_fd(ptrain['longitude'],1)\n",
    "#deal with outliers, set the column for modified data and plot again\n",
    "pwhole['price_modify'] = pwhole['price']\n",
    "pwhole['price_modify'].loc[pwhole['price_modify']<price_lower] = price_lower\n",
    "pwhole['price_modify'].loc[pwhole['price_modify']>price_higher] = price_higher\n",
    "#deal with outliers, set the column for modified data and plot again\n",
    "pwhole['latitude_modify'] = pwhole['latitude']\n",
    "pwhole['latitude_modify'].loc[pwhole['latitude_modify']<latitude_lower] = latitude_lower\n",
    "pwhole['latitude_modify'].loc[pwhole['latitude_modify']>latitude_higher] = latitude_higher\n",
    "#deal with outliers, set the column for modified data and plot again\n",
    "pwhole['longitude_modify'] = pwhole['longitude']\n",
    "pwhole['longitude_modify'].loc[pwhole['longitude']<longitude_lower] = longitude_lower\n",
    "pwhole['longitude_modify'].loc[pwhole['longitude']>longitude_higher] = longitude_higher\n",
    "#get the number of photos\n",
    "pwhole['photos_number'] = pwhole['photos'].apply(photos_number_counter)\n",
    "#set all feature words in tf_idf as features for train for feature_modify\n",
    "pwhole['features_modify'] = pwhole['features'].apply(lambda x:\" \".join([\"_\".join(i.split(\" \"))for i in x]))\n",
    "counterf = CountVectorizer(max_features=100)\n",
    "train_sparse_f = counterf.fit_transform(pwhole['features_modify'])\n",
    "feature_list = counterf.get_feature_names()\n",
    "array1 = train_sparse_f.toarray()\n",
    "for i, feature_str in enumerate(feature_list):\n",
    "    list_all = []\n",
    "    [rows, cols] = array1.shape\n",
    "    for row in range(rows):\n",
    "        list_all.append(array1[row][i])\n",
    "    feature_str_ = feature_str + '(f)'\n",
    "    feature_v = pd.Series(list_all,pwhole.index, name = feature_str_)\n",
    "    pwhole[feature_str_] = feature_v\n",
    "#set all feature words in tf_idf as features for train for description_modify\n",
    "pwhole['description_modify'] = pwhole['description'].apply(lambda x:valid_des(x))\n",
    "counterd = CountVectorizer(stop_words=['features'], max_features=100)\n",
    "train_sparse_d = counterd.fit_transform(pwhole['description_modify'])\n",
    "description_list = counterd.get_feature_names()\n",
    "array2 = train_sparse_d.toarray()\n",
    "for i, description_str in enumerate(description_list):\n",
    "    list_all = []\n",
    "    [rows, cols] = array2.shape\n",
    "    for row in range(rows):\n",
    "        list_all.append(array2[row][i])\n",
    "    description_str_ = description_str + '(d)'\n",
    "    description_v = pd.Series(list_all,pwhole.index, name = description_str_)\n",
    "    pwhole[description_str_] = description_v\n",
    "## /*add something to change the created to year month day*/\n",
    "pwhole['created']=pd.to_datetime(pwhole[\"created\"])\n",
    "pwhole['year']=pwhole['created'].dt.year\n",
    "pwhole['month']=pwhole['created'].dt.month\n",
    "pwhole['day']=pwhole['created'].dt.day"
   ]
  },
  {
   "cell_type": "markdown",
   "metadata": {},
   "source": [
    "feature selection"
   ]
  },
  {
   "cell_type": "code",
   "execution_count": 5,
   "metadata": {},
   "outputs": [],
   "source": [
    "pwhole = pwhole.drop(['central_a(f)','in_super(f)','on(f)','pre(f)','war(f)'], axis = 1)\n",
    "pwhole = pwhole.drop(['an(d)','and(d)','are(d)','as(d)','at(d)','be(d)','by(d)','can(d)','for(d)','from(d)','in(d)','is(d)','it(d)','just(d)','me(d)','more(d)','natural(d)','new(d)','or(d)','park(d)','that(d)','the(d)','this(d)','to(d)','will(d)','with(d)','you(d)','your(d)'], axis = 1)\n",
    "# pwhole keep on dropping...\n",
    "pwhole = pwhole.drop([\"building_id\", \"created\", \"description\", \"display_address\", \"features\", \n",
    "                     \"manager_id\", \"photos\", \"street_address\", \"price\", \"longitude\",\n",
    "                        \"latitude\", \"features_modify\", \"description_modify\"], axis=1)"
   ]
  },
  {
   "cell_type": "code",
   "execution_count": 6,
   "metadata": {},
   "outputs": [],
   "source": [
    "# get the polished version of train data and test data\n",
    "# original: X_train.shape (49352, 176)    X_test.shape (74659, 176) X_train_label.shape (49352,3) high, low, medium\n",
    "X_train = pwhole[:49352]\n",
    "X_test = pwhole[49352:]\n",
    "X_train = X_train.drop(['listing_id'], axis = 1)\n",
    "X_test = X_test.drop(['listing_id'], axis = 1)\n",
    "X_train_label = train['interest_level']\n",
    "X_train_label.columns = [['interest_level']]"
   ]
  },
  {
   "cell_type": "markdown",
   "metadata": {},
   "source": [
    "\n",
    "\n",
    "\n",
    "Now, we get three datasets: \n",
    "\n",
    "\n",
    "\n",
    "\n",
    "\n",
    "\n",
    "\n",
    "\n",
    "\n",
    "\n",
    "\n",
    "\n",
    "\n",
    "\n",
    "\n",
    "\n",
    "\n",
    "\n",
    "\n",
    "\n",
    "\n",
    "\n",
    "\n",
    "\n",
    "\n",
    "\n",
    "\n",
    "\n",
    "\n",
    "\n",
    "\n",
    "\n",
    "training sampleset(without label) -- X_train\n",
    "\n",
    "\n",
    "\n",
    "\n",
    "\n",
    "\n",
    "\n",
    "\n",
    "\n",
    "\n",
    "\n",
    "\n",
    "\n",
    "\n",
    "\n",
    "\n",
    "\n",
    "\n",
    "\n",
    "\n",
    "\n",
    "\n",
    "\n",
    "\n",
    "\n",
    "\n",
    "\n",
    "\n",
    "\n",
    "\n",
    "\n",
    "\n",
    "test dataset -- X_test\n",
    "\n",
    "\n",
    "\n",
    "\n",
    "\n",
    "\n",
    "\n",
    "\n",
    "\n",
    "\n",
    "\n",
    "\n",
    "\n",
    "\n",
    "\n",
    "\n",
    "\n",
    "\n",
    "\n",
    "\n",
    "\n",
    "\n",
    "\n",
    "\n",
    "\n",
    "\n",
    "\n",
    "\n",
    "\n",
    "\n",
    "\n",
    "\n",
    "training labelset -- X_train_label\n",
    "\n",
    "\n",
    "\n",
    "\n",
    "\n",
    "\n",
    "\n",
    "\n",
    "\n",
    "\n",
    "\n",
    "\n",
    "\n",
    "\n",
    "\n",
    "\n",
    "\n",
    "\n",
    "\n",
    "\n",
    "\n",
    "\n",
    "\n",
    "\n",
    "\n",
    "\n",
    "\n",
    "\n",
    "\n",
    "\n",
    "\n",
    "\n",
    "Here,I list the columns of X_train to see all the features\n"
   ]
  },
  {
   "cell_type": "code",
   "execution_count": 9,
   "metadata": {},
   "outputs": [
    {
     "data": {
      "text/html": [
       "<div>\n",
       "<style scoped>\n",
       "    .dataframe tbody tr th:only-of-type {\n",
       "        vertical-align: middle;\n",
       "    }\n",
       "\n",
       "    .dataframe tbody tr th {\n",
       "        vertical-align: top;\n",
       "    }\n",
       "\n",
       "    .dataframe thead th {\n",
       "        text-align: right;\n",
       "    }\n",
       "</style>\n",
       "<table border=\"1\" class=\"dataframe\">\n",
       "  <thead>\n",
       "    <tr style=\"text-align: right;\">\n",
       "      <th></th>\n",
       "      <th>bathrooms</th>\n",
       "      <th>bedrooms</th>\n",
       "      <th>price_modify</th>\n",
       "      <th>latitude_modify</th>\n",
       "      <th>longitude_modify</th>\n",
       "      <th>photos_number</th>\n",
       "      <th>_photos(f)</th>\n",
       "      <th>actual_apt(f)</th>\n",
       "      <th>balcony(f)</th>\n",
       "      <th>bike_room(f)</th>\n",
       "      <th>...</th>\n",
       "      <th>supports(d)</th>\n",
       "      <th>text(d)</th>\n",
       "      <th>two(d)</th>\n",
       "      <th>unit(d)</th>\n",
       "      <th>west(d)</th>\n",
       "      <th>windows(d)</th>\n",
       "      <th>york(d)</th>\n",
       "      <th>year</th>\n",
       "      <th>month</th>\n",
       "      <th>day</th>\n",
       "    </tr>\n",
       "  </thead>\n",
       "  <tbody>\n",
       "    <tr>\n",
       "      <td>4</td>\n",
       "      <td>1.0</td>\n",
       "      <td>1</td>\n",
       "      <td>2400.0</td>\n",
       "      <td>40.7108</td>\n",
       "      <td>-73.9539</td>\n",
       "      <td>12</td>\n",
       "      <td>0</td>\n",
       "      <td>0</td>\n",
       "      <td>0</td>\n",
       "      <td>0</td>\n",
       "      <td>...</td>\n",
       "      <td>0</td>\n",
       "      <td>1</td>\n",
       "      <td>0</td>\n",
       "      <td>0</td>\n",
       "      <td>0</td>\n",
       "      <td>0</td>\n",
       "      <td>0</td>\n",
       "      <td>2016</td>\n",
       "      <td>6</td>\n",
       "      <td>16</td>\n",
       "    </tr>\n",
       "    <tr>\n",
       "      <td>6</td>\n",
       "      <td>1.0</td>\n",
       "      <td>2</td>\n",
       "      <td>3800.0</td>\n",
       "      <td>40.7513</td>\n",
       "      <td>-73.9722</td>\n",
       "      <td>6</td>\n",
       "      <td>0</td>\n",
       "      <td>0</td>\n",
       "      <td>0</td>\n",
       "      <td>0</td>\n",
       "      <td>...</td>\n",
       "      <td>0</td>\n",
       "      <td>1</td>\n",
       "      <td>0</td>\n",
       "      <td>0</td>\n",
       "      <td>0</td>\n",
       "      <td>0</td>\n",
       "      <td>0</td>\n",
       "      <td>2016</td>\n",
       "      <td>6</td>\n",
       "      <td>1</td>\n",
       "    </tr>\n",
       "    <tr>\n",
       "      <td>9</td>\n",
       "      <td>1.0</td>\n",
       "      <td>2</td>\n",
       "      <td>3495.0</td>\n",
       "      <td>40.7575</td>\n",
       "      <td>-73.9625</td>\n",
       "      <td>6</td>\n",
       "      <td>0</td>\n",
       "      <td>0</td>\n",
       "      <td>0</td>\n",
       "      <td>0</td>\n",
       "      <td>...</td>\n",
       "      <td>0</td>\n",
       "      <td>0</td>\n",
       "      <td>0</td>\n",
       "      <td>0</td>\n",
       "      <td>0</td>\n",
       "      <td>0</td>\n",
       "      <td>0</td>\n",
       "      <td>2016</td>\n",
       "      <td>6</td>\n",
       "      <td>14</td>\n",
       "    </tr>\n",
       "    <tr>\n",
       "      <td>10</td>\n",
       "      <td>1.5</td>\n",
       "      <td>3</td>\n",
       "      <td>3000.0</td>\n",
       "      <td>40.7145</td>\n",
       "      <td>-73.9425</td>\n",
       "      <td>5</td>\n",
       "      <td>0</td>\n",
       "      <td>0</td>\n",
       "      <td>0</td>\n",
       "      <td>0</td>\n",
       "      <td>...</td>\n",
       "      <td>0</td>\n",
       "      <td>0</td>\n",
       "      <td>0</td>\n",
       "      <td>0</td>\n",
       "      <td>0</td>\n",
       "      <td>0</td>\n",
       "      <td>0</td>\n",
       "      <td>2016</td>\n",
       "      <td>6</td>\n",
       "      <td>24</td>\n",
       "    </tr>\n",
       "    <tr>\n",
       "      <td>15</td>\n",
       "      <td>1.0</td>\n",
       "      <td>0</td>\n",
       "      <td>2795.0</td>\n",
       "      <td>40.7439</td>\n",
       "      <td>-73.9743</td>\n",
       "      <td>4</td>\n",
       "      <td>0</td>\n",
       "      <td>0</td>\n",
       "      <td>0</td>\n",
       "      <td>0</td>\n",
       "      <td>...</td>\n",
       "      <td>0</td>\n",
       "      <td>0</td>\n",
       "      <td>0</td>\n",
       "      <td>0</td>\n",
       "      <td>0</td>\n",
       "      <td>0</td>\n",
       "      <td>0</td>\n",
       "      <td>2016</td>\n",
       "      <td>6</td>\n",
       "      <td>28</td>\n",
       "    </tr>\n",
       "    <tr>\n",
       "      <td>...</td>\n",
       "      <td>...</td>\n",
       "      <td>...</td>\n",
       "      <td>...</td>\n",
       "      <td>...</td>\n",
       "      <td>...</td>\n",
       "      <td>...</td>\n",
       "      <td>...</td>\n",
       "      <td>...</td>\n",
       "      <td>...</td>\n",
       "      <td>...</td>\n",
       "      <td>...</td>\n",
       "      <td>...</td>\n",
       "      <td>...</td>\n",
       "      <td>...</td>\n",
       "      <td>...</td>\n",
       "      <td>...</td>\n",
       "      <td>...</td>\n",
       "      <td>...</td>\n",
       "      <td>...</td>\n",
       "      <td>...</td>\n",
       "      <td>...</td>\n",
       "    </tr>\n",
       "    <tr>\n",
       "      <td>124000</td>\n",
       "      <td>1.0</td>\n",
       "      <td>3</td>\n",
       "      <td>2800.0</td>\n",
       "      <td>40.8433</td>\n",
       "      <td>-73.9396</td>\n",
       "      <td>5</td>\n",
       "      <td>0</td>\n",
       "      <td>0</td>\n",
       "      <td>0</td>\n",
       "      <td>0</td>\n",
       "      <td>...</td>\n",
       "      <td>1</td>\n",
       "      <td>0</td>\n",
       "      <td>0</td>\n",
       "      <td>0</td>\n",
       "      <td>0</td>\n",
       "      <td>0</td>\n",
       "      <td>1</td>\n",
       "      <td>2016</td>\n",
       "      <td>4</td>\n",
       "      <td>5</td>\n",
       "    </tr>\n",
       "    <tr>\n",
       "      <td>124002</td>\n",
       "      <td>1.0</td>\n",
       "      <td>2</td>\n",
       "      <td>2395.0</td>\n",
       "      <td>40.8198</td>\n",
       "      <td>-73.9578</td>\n",
       "      <td>5</td>\n",
       "      <td>0</td>\n",
       "      <td>0</td>\n",
       "      <td>0</td>\n",
       "      <td>0</td>\n",
       "      <td>...</td>\n",
       "      <td>0</td>\n",
       "      <td>0</td>\n",
       "      <td>0</td>\n",
       "      <td>0</td>\n",
       "      <td>0</td>\n",
       "      <td>0</td>\n",
       "      <td>1</td>\n",
       "      <td>2016</td>\n",
       "      <td>4</td>\n",
       "      <td>2</td>\n",
       "    </tr>\n",
       "    <tr>\n",
       "      <td>124004</td>\n",
       "      <td>1.0</td>\n",
       "      <td>1</td>\n",
       "      <td>1850.0</td>\n",
       "      <td>40.5765</td>\n",
       "      <td>-73.9554</td>\n",
       "      <td>3</td>\n",
       "      <td>0</td>\n",
       "      <td>0</td>\n",
       "      <td>0</td>\n",
       "      <td>0</td>\n",
       "      <td>...</td>\n",
       "      <td>0</td>\n",
       "      <td>0</td>\n",
       "      <td>0</td>\n",
       "      <td>0</td>\n",
       "      <td>0</td>\n",
       "      <td>0</td>\n",
       "      <td>0</td>\n",
       "      <td>2016</td>\n",
       "      <td>4</td>\n",
       "      <td>26</td>\n",
       "    </tr>\n",
       "    <tr>\n",
       "      <td>124008</td>\n",
       "      <td>1.0</td>\n",
       "      <td>2</td>\n",
       "      <td>4195.0</td>\n",
       "      <td>40.7448</td>\n",
       "      <td>-74.0017</td>\n",
       "      <td>5</td>\n",
       "      <td>0</td>\n",
       "      <td>0</td>\n",
       "      <td>0</td>\n",
       "      <td>0</td>\n",
       "      <td>...</td>\n",
       "      <td>0</td>\n",
       "      <td>0</td>\n",
       "      <td>0</td>\n",
       "      <td>1</td>\n",
       "      <td>0</td>\n",
       "      <td>0</td>\n",
       "      <td>0</td>\n",
       "      <td>2016</td>\n",
       "      <td>4</td>\n",
       "      <td>19</td>\n",
       "    </tr>\n",
       "    <tr>\n",
       "      <td>124009</td>\n",
       "      <td>1.0</td>\n",
       "      <td>3</td>\n",
       "      <td>4280.0</td>\n",
       "      <td>40.7594</td>\n",
       "      <td>-73.9712</td>\n",
       "      <td>8</td>\n",
       "      <td>0</td>\n",
       "      <td>0</td>\n",
       "      <td>0</td>\n",
       "      <td>0</td>\n",
       "      <td>...</td>\n",
       "      <td>0</td>\n",
       "      <td>1</td>\n",
       "      <td>0</td>\n",
       "      <td>1</td>\n",
       "      <td>0</td>\n",
       "      <td>0</td>\n",
       "      <td>0</td>\n",
       "      <td>2016</td>\n",
       "      <td>4</td>\n",
       "      <td>20</td>\n",
       "    </tr>\n",
       "  </tbody>\n",
       "</table>\n",
       "<p>49352 rows × 176 columns</p>\n",
       "</div>"
      ],
      "text/plain": [
       "        bathrooms  bedrooms  price_modify  latitude_modify  longitude_modify  \\\n",
       "4             1.0         1        2400.0          40.7108          -73.9539   \n",
       "6             1.0         2        3800.0          40.7513          -73.9722   \n",
       "9             1.0         2        3495.0          40.7575          -73.9625   \n",
       "10            1.5         3        3000.0          40.7145          -73.9425   \n",
       "15            1.0         0        2795.0          40.7439          -73.9743   \n",
       "...           ...       ...           ...              ...               ...   \n",
       "124000        1.0         3        2800.0          40.8433          -73.9396   \n",
       "124002        1.0         2        2395.0          40.8198          -73.9578   \n",
       "124004        1.0         1        1850.0          40.5765          -73.9554   \n",
       "124008        1.0         2        4195.0          40.7448          -74.0017   \n",
       "124009        1.0         3        4280.0          40.7594          -73.9712   \n",
       "\n",
       "        photos_number  _photos(f)  actual_apt(f)  balcony(f)  bike_room(f)  \\\n",
       "4                  12           0              0           0             0   \n",
       "6                   6           0              0           0             0   \n",
       "9                   6           0              0           0             0   \n",
       "10                  5           0              0           0             0   \n",
       "15                  4           0              0           0             0   \n",
       "...               ...         ...            ...         ...           ...   \n",
       "124000              5           0              0           0             0   \n",
       "124002              5           0              0           0             0   \n",
       "124004              3           0              0           0             0   \n",
       "124008              5           0              0           0             0   \n",
       "124009              8           0              0           0             0   \n",
       "\n",
       "        ...  supports(d)  text(d)  two(d)  unit(d)  west(d)  windows(d)  \\\n",
       "4       ...            0        1       0        0        0           0   \n",
       "6       ...            0        1       0        0        0           0   \n",
       "9       ...            0        0       0        0        0           0   \n",
       "10      ...            0        0       0        0        0           0   \n",
       "15      ...            0        0       0        0        0           0   \n",
       "...     ...          ...      ...     ...      ...      ...         ...   \n",
       "124000  ...            1        0       0        0        0           0   \n",
       "124002  ...            0        0       0        0        0           0   \n",
       "124004  ...            0        0       0        0        0           0   \n",
       "124008  ...            0        0       0        1        0           0   \n",
       "124009  ...            0        1       0        1        0           0   \n",
       "\n",
       "        york(d)  year  month  day  \n",
       "4             0  2016      6   16  \n",
       "6             0  2016      6    1  \n",
       "9             0  2016      6   14  \n",
       "10            0  2016      6   24  \n",
       "15            0  2016      6   28  \n",
       "...         ...   ...    ...  ...  \n",
       "124000        1  2016      4    5  \n",
       "124002        1  2016      4    2  \n",
       "124004        0  2016      4   26  \n",
       "124008        0  2016      4   19  \n",
       "124009        0  2016      4   20  \n",
       "\n",
       "[49352 rows x 176 columns]"
      ]
     },
     "execution_count": 9,
     "metadata": {},
     "output_type": "execute_result"
    }
   ],
   "source": [
    "X_train"
   ]
  },
  {
   "cell_type": "markdown",
   "metadata": {},
   "source": [
    "# 5-Fold Cross Validation"
   ]
  },
  {
   "cell_type": "markdown",
   "metadata": {},
   "source": [
    "method 1"
   ]
  },
  {
   "cell_type": "code",
   "execution_count": 15,
   "metadata": {},
   "outputs": [],
   "source": [
    "# reset index first\n",
    "X_train = X_train.reset_index(drop=True)\n",
    "X_train_label = X_train_label.reset_index(drop=True)\n",
    "#5-fold cross validation\n",
    "def new_cross_val_score(X_train, X_train_label, n_est):\n",
    "    rkf = KFold(5,True,1)\n",
    "    trainset_set = []\n",
    "    trainlabel_set = []\n",
    "    scores = []\n",
    "    for train_index, test_index in rkf.split(X_train):\n",
    "        print(\"train_index:{};\\ntest_index:{}\".format(train_index,test_index))\n",
    "        #Xtrain: train part of tuples; Xtrainlabel: label of train part; Ytest: test part of tuples; Ytestlabel: label of test part\n",
    "        Xtrain, Xtrainlabel = X_train.ix[train_index], X_train_label.ix[train_index]\n",
    "        Ytest, Ytestlabel = X_train.ix[test_index], X_train_label.ix[test_index]\n",
    "        cv_clf = RandomForestClassifier(n_estimators = n_est, n_jobs = -1)\n",
    "        cv_clf.fit(Xtrain, Xtrainlabel)\n",
    "        ypredict = cv_clf.predict_proba(Ytest)\n",
    "        truelabel = pd.get_dummies(Ytestlabel)\n",
    "        #print(truelabel)\n",
    "        score = log_loss(truelabel, ypredict)\n",
    "        trainset_set.append(Xtrain)\n",
    "        trainlabel_set.append(Xtrainlabel)\n",
    "        scores.append(score)\n",
    "    print(\"scores for 5-fold:\")\n",
    "    print(scores)\n",
    "    print(\"mean score:\")\n",
    "    print(np.mean(scores))"
   ]
  },
  {
   "cell_type": "markdown",
   "metadata": {},
   "source": [
    "method 2"
   ]
  },
  {
   "cell_type": "code",
   "execution_count": 16,
   "metadata": {},
   "outputs": [],
   "source": [
    "def fast_cross_val_score(X_train, X_train_label, n_est):\n",
    "    clf = RandomForestClassifier(n_estimators = n_est, n_jobs = -1)\n",
    "    scores = cross_val_score(clf, X_train, X_train_label, cv = 5, scoring = 'neg_log_loss')\n",
    "    print(\"scores for 5-fold:\")\n",
    "    print(scores)\n",
    "    print(\"mean score:\")\n",
    "    print(np.mean(scores))"
   ]
  },
  {
   "cell_type": "markdown",
   "metadata": {},
   "source": [
    "# First Version Classcifier Performance"
   ]
  },
  {
   "cell_type": "markdown",
   "metadata": {},
   "source": [
    "In the first version, I use the RandomForestClassifier with the parameters n-estimator = 500, others default"
   ]
  },
  {
   "cell_type": "markdown",
   "metadata": {},
   "source": [
    "cross validation"
   ]
  },
  {
   "cell_type": "code",
   "execution_count": 17,
   "metadata": {},
   "outputs": [
    {
     "name": "stdout",
     "output_type": "stream",
     "text": [
      "train_index:[    0     1     3 ... 49349 49350 49351];\n",
      "test_index:[    2    10    12 ... 49327 49333 49348]\n"
     ]
    },
    {
     "name": "stderr",
     "output_type": "stream",
     "text": [
      "C:\\AAA\\lib\\site-packages\\ipykernel_launcher.py:13: FutureWarning: \n",
      ".ix is deprecated. Please use\n",
      ".loc for label based indexing or\n",
      ".iloc for positional indexing\n",
      "\n",
      "See the documentation here:\n",
      "http://pandas.pydata.org/pandas-docs/stable/user_guide/indexing.html#ix-indexer-is-deprecated\n",
      "  del sys.path[0]\n",
      "C:\\AAA\\lib\\site-packages\\ipykernel_launcher.py:14: FutureWarning: \n",
      ".ix is deprecated. Please use\n",
      ".loc for label based indexing or\n",
      ".iloc for positional indexing\n",
      "\n",
      "See the documentation here:\n",
      "http://pandas.pydata.org/pandas-docs/stable/user_guide/indexing.html#ix-indexer-is-deprecated\n",
      "  \n"
     ]
    },
    {
     "name": "stdout",
     "output_type": "stream",
     "text": [
      "train_index:[    0     1     2 ... 49348 49350 49351];\n",
      "test_index:[    3     8    11 ... 49336 49346 49349]\n"
     ]
    },
    {
     "name": "stderr",
     "output_type": "stream",
     "text": [
      "C:\\AAA\\lib\\site-packages\\ipykernel_launcher.py:13: FutureWarning: \n",
      ".ix is deprecated. Please use\n",
      ".loc for label based indexing or\n",
      ".iloc for positional indexing\n",
      "\n",
      "See the documentation here:\n",
      "http://pandas.pydata.org/pandas-docs/stable/user_guide/indexing.html#ix-indexer-is-deprecated\n",
      "  del sys.path[0]\n",
      "C:\\AAA\\lib\\site-packages\\ipykernel_launcher.py:14: FutureWarning: \n",
      ".ix is deprecated. Please use\n",
      ".loc for label based indexing or\n",
      ".iloc for positional indexing\n",
      "\n",
      "See the documentation here:\n",
      "http://pandas.pydata.org/pandas-docs/stable/user_guide/indexing.html#ix-indexer-is-deprecated\n",
      "  \n"
     ]
    },
    {
     "name": "stdout",
     "output_type": "stream",
     "text": [
      "train_index:[    1     2     3 ... 49349 49350 49351];\n",
      "test_index:[    0    13    16 ... 49338 49342 49347]\n"
     ]
    },
    {
     "name": "stderr",
     "output_type": "stream",
     "text": [
      "C:\\AAA\\lib\\site-packages\\ipykernel_launcher.py:13: FutureWarning: \n",
      ".ix is deprecated. Please use\n",
      ".loc for label based indexing or\n",
      ".iloc for positional indexing\n",
      "\n",
      "See the documentation here:\n",
      "http://pandas.pydata.org/pandas-docs/stable/user_guide/indexing.html#ix-indexer-is-deprecated\n",
      "  del sys.path[0]\n",
      "C:\\AAA\\lib\\site-packages\\ipykernel_launcher.py:14: FutureWarning: \n",
      ".ix is deprecated. Please use\n",
      ".loc for label based indexing or\n",
      ".iloc for positional indexing\n",
      "\n",
      "See the documentation here:\n",
      "http://pandas.pydata.org/pandas-docs/stable/user_guide/indexing.html#ix-indexer-is-deprecated\n",
      "  \n"
     ]
    },
    {
     "name": "stdout",
     "output_type": "stream",
     "text": [
      "train_index:[    0     2     3 ... 49349 49350 49351];\n",
      "test_index:[    1     4     5 ... 49341 49344 49345]\n"
     ]
    },
    {
     "name": "stderr",
     "output_type": "stream",
     "text": [
      "C:\\AAA\\lib\\site-packages\\ipykernel_launcher.py:13: FutureWarning: \n",
      ".ix is deprecated. Please use\n",
      ".loc for label based indexing or\n",
      ".iloc for positional indexing\n",
      "\n",
      "See the documentation here:\n",
      "http://pandas.pydata.org/pandas-docs/stable/user_guide/indexing.html#ix-indexer-is-deprecated\n",
      "  del sys.path[0]\n",
      "C:\\AAA\\lib\\site-packages\\ipykernel_launcher.py:14: FutureWarning: \n",
      ".ix is deprecated. Please use\n",
      ".loc for label based indexing or\n",
      ".iloc for positional indexing\n",
      "\n",
      "See the documentation here:\n",
      "http://pandas.pydata.org/pandas-docs/stable/user_guide/indexing.html#ix-indexer-is-deprecated\n",
      "  \n"
     ]
    },
    {
     "name": "stdout",
     "output_type": "stream",
     "text": [
      "train_index:[    0     1     2 ... 49347 49348 49349];\n",
      "test_index:[    9    14    15 ... 49343 49350 49351]\n"
     ]
    },
    {
     "name": "stderr",
     "output_type": "stream",
     "text": [
      "C:\\AAA\\lib\\site-packages\\ipykernel_launcher.py:13: FutureWarning: \n",
      ".ix is deprecated. Please use\n",
      ".loc for label based indexing or\n",
      ".iloc for positional indexing\n",
      "\n",
      "See the documentation here:\n",
      "http://pandas.pydata.org/pandas-docs/stable/user_guide/indexing.html#ix-indexer-is-deprecated\n",
      "  del sys.path[0]\n",
      "C:\\AAA\\lib\\site-packages\\ipykernel_launcher.py:14: FutureWarning: \n",
      ".ix is deprecated. Please use\n",
      ".loc for label based indexing or\n",
      ".iloc for positional indexing\n",
      "\n",
      "See the documentation here:\n",
      "http://pandas.pydata.org/pandas-docs/stable/user_guide/indexing.html#ix-indexer-is-deprecated\n",
      "  \n"
     ]
    },
    {
     "name": "stdout",
     "output_type": "stream",
     "text": [
      "scores for 5-fold:\n",
      "[0.6381524295813675, 0.6479414358052011, 0.6465016554476584, 0.6524599218208798, 0.633053963545826]\n",
      "mean score:\n",
      "0.6436218812401866\n"
     ]
    }
   ],
   "source": [
    "new_cross_val_score(X_train, X_train_label, 500)"
   ]
  },
  {
   "cell_type": "code",
   "execution_count": 18,
   "metadata": {},
   "outputs": [
    {
     "name": "stdout",
     "output_type": "stream",
     "text": [
      "scores for 5-fold:\n",
      "[-0.62971614 -0.63424751 -0.64074313 -0.64552231 -0.65304628]\n",
      "mean score:\n",
      "-0.640655073441501\n"
     ]
    }
   ],
   "source": [
    "fast_cross_val_score(X_train, X_train_label, 500)"
   ]
  },
  {
   "cell_type": "markdown",
   "metadata": {},
   "source": [
    "evaluation on the test data"
   ]
  },
  {
   "cell_type": "code",
   "execution_count": 74,
   "metadata": {},
   "outputs": [],
   "source": [
    "xtrain, xval, ytrain, yval = train_test_split(X_train, X_train_label, test_size=0.2)"
   ]
  },
  {
   "cell_type": "code",
   "execution_count": 77,
   "metadata": {},
   "outputs": [
    {
     "data": {
      "text/plain": [
       "0.6466730771283339"
      ]
     },
     "execution_count": 77,
     "metadata": {},
     "output_type": "execute_result"
    }
   ],
   "source": [
    "#validation\n",
    "clf = RandomForestClassifier(n_estimators = 500, n_jobs = -1)\n",
    "clf.fit(xtrain, ytrain)\n",
    "y_val_pred = clf.predict_proba(xval)\n",
    "log_loss(yval, y_val_pred)"
   ]
  },
  {
   "cell_type": "code",
   "execution_count": 80,
   "metadata": {},
   "outputs": [
    {
     "data": {
      "text/plain": [
       "RandomForestClassifier(bootstrap=True, class_weight=None, criterion='gini',\n",
       "                       max_depth=None, max_features='auto', max_leaf_nodes=None,\n",
       "                       min_impurity_decrease=0.0, min_impurity_split=None,\n",
       "                       min_samples_leaf=1, min_samples_split=2,\n",
       "                       min_weight_fraction_leaf=0.0, n_estimators=500,\n",
       "                       n_jobs=-1, oob_score=False, random_state=None, verbose=0,\n",
       "                       warm_start=False)"
      ]
     },
     "execution_count": 80,
     "metadata": {},
     "output_type": "execute_result"
    }
   ],
   "source": [
    "clf"
   ]
  },
  {
   "cell_type": "code",
   "execution_count": 78,
   "metadata": {},
   "outputs": [],
   "source": [
    "#test performance\n",
    "Y_prediction = clf.predict_proba(X_test)\n",
    "y = pd.DataFrame(Y_prediction)\n",
    "y.reset_index(drop = True, inplace = True)\n",
    "ids = test['listing_id']\n",
    "ids.reset_index(drop = True, inplace = True)\n",
    "out = pd.concat([ids, y], axis = 1, ignore_index = True)\n",
    "out.columns = ['listing_id', 'high', 'low', 'medium']\n",
    "out = out[['listing_id', 'high', 'medium', 'low']]\n",
    "submission_file = open(\"submission1.csv\",\"w\")\n",
    "out.to_csv('submission1.csv', index = False)\n",
    "submission_file.close()\n"
   ]
  },
  {
   "cell_type": "markdown",
   "metadata": {},
   "source": [
    "On kaggle, the performance of first version gets score 0.64852 for private and 0.64591 for public"
   ]
  },
  {
   "cell_type": "markdown",
   "metadata": {},
   "source": [
    "# Improvement"
   ]
  },
  {
   "cell_type": "markdown",
   "metadata": {},
   "source": [
    "I'd adjust the parameters of the classifier first"
   ]
  },
  {
   "cell_type": "markdown",
   "metadata": {},
   "source": [
    "Parameters defaulted:\n",
    "RandomForestClassifier(bootstrap=True, criterion='gini',max_depth=None, max_features='auto', max_leaf_nodes=None,\n",
    "                       min_impurity_decrease=0.0, min_impurity_split=None, min_samples_leaf=1, min_samples_split=2,\n",
    "                       min_weight_fraction_leaf=0.0, n_estimators=100, n_jobs=1, oob_score=False, random_state=None, \n",
    "                       verbose=0,warm_start=False)"
   ]
  },
  {
   "cell_type": "markdown",
   "metadata": {},
   "source": [
    "Adjust max_depth"
   ]
  },
  {
   "cell_type": "code",
   "execution_count": 28,
   "metadata": {},
   "outputs": [],
   "source": [
    "def max_depth_cv(X_train, X_train_label, para_max_depth):\n",
    "    scores = {}\n",
    "    for md in para_max_depth:\n",
    "        print(md)\n",
    "        clf = RandomForestClassifier(max_depth = md, n_jobs = -1, n_estimators = 100)\n",
    "        score = cross_val_score(clf, X_train, X_train_label, cv = 5, scoring = 'neg_log_loss')\n",
    "        scores[md] = np.mean(score)\n",
    "    print(\"result for adjusting max_depth:\")\n",
    "    print(scores)"
   ]
  },
  {
   "cell_type": "code",
   "execution_count": 31,
   "metadata": {},
   "outputs": [
    {
     "name": "stdout",
     "output_type": "stream",
     "text": [
      "3\n"
     ]
    },
    {
     "name": "stderr",
     "output_type": "stream",
     "text": [
      "C:\\AAA\\lib\\site-packages\\joblib\\externals\\loky\\process_executor.py:706: UserWarning: A worker stopped while some jobs were given to the executor. This can be caused by a too short worker timeout or by a memory leak.\n",
      "  \"timeout or by a memory leak.\", UserWarning\n"
     ]
    },
    {
     "name": "stdout",
     "output_type": "stream",
     "text": [
      "5\n",
      "7\n",
      "9\n",
      "11\n",
      "13\n",
      "15\n",
      "17\n",
      "19\n",
      "21\n",
      "23\n",
      "25\n",
      "27\n",
      "29\n",
      "31\n",
      "33\n",
      "35\n",
      "37\n",
      "39\n",
      "41\n",
      "result for adjusting max_depth:\n",
      "{3: -0.7531790567105536, 5: -0.7321888056349419, 7: -0.713371593703761, 9: -0.6977460787170793, 11: -0.6833754681288078, 13: -0.6699445210900036, 15: -0.6593240704654475, 17: -0.6507891132565697, 19: -0.6449313249725027, 21: -0.6417629432251071, 23: -0.6404744145814817, 25: -0.6415515267686159, 27: -0.6422967697939322, 29: -0.6443977471847134, 31: -0.6456614604652834, 33: -0.6510640706588104, 35: -0.6552356998682191, 37: -0.655746541265907, 39: -0.6600720937639348, 41: -0.6655498074968158}\n"
     ]
    }
   ],
   "source": [
    "para_max_depth = [3, 5, 7, 9, 11, 13, 15, 17, 19, 21, 23, 25, 27, 29, 31, 33, 35, 37, 39, 41]\n",
    "max_depth_cv(X_train, X_train_label, para_max_depth)"
   ]
  },
  {
   "cell_type": "markdown",
   "metadata": {},
   "source": [
    "From observation, take max_depth = 23"
   ]
  },
  {
   "cell_type": "markdown",
   "metadata": {},
   "source": [
    "Adjust max_feature"
   ]
  },
  {
   "cell_type": "code",
   "execution_count": 34,
   "metadata": {},
   "outputs": [],
   "source": [
    "def max_features_cv(X_train, X_train_label, para_max_features):\n",
    "    scores = {}\n",
    "    for mf in para_max_features:\n",
    "        print(mf)\n",
    "        clf = RandomForestClassifier(max_depth = 23, max_features = mf, n_jobs = -1, n_estimators = 100)\n",
    "        score = cross_val_score(clf, X_train, X_train_label, cv = 5, scoring = 'neg_log_loss')\n",
    "        scores[mf] = np.mean(score)\n",
    "    print(\"result for adjusting max_features:\")\n",
    "    print(scores)"
   ]
  },
  {
   "cell_type": "code",
   "execution_count": 35,
   "metadata": {},
   "outputs": [
    {
     "name": "stdout",
     "output_type": "stream",
     "text": [
      "auto\n",
      "sqrt\n",
      "result for adjusting max_features:\n",
      "{'auto': -0.6409536629321785, 'sqrt': -0.6397373221299625}\n"
     ]
    }
   ],
   "source": [
    "para_max_features = ['auto', 'sqrt']\n",
    "max_features_cv(X_train, X_train_label, para_max_features)"
   ]
  },
  {
   "cell_type": "markdown",
   "metadata": {},
   "source": [
    "From observation, take max_features = 'sqrt'"
   ]
  },
  {
   "cell_type": "markdown",
   "metadata": {},
   "source": [
    "Adjust min_samples_leaf"
   ]
  },
  {
   "cell_type": "code",
   "execution_count": 38,
   "metadata": {},
   "outputs": [],
   "source": [
    "def min_samples_leaf_cv(X_train, X_train_label, para_min_samples_leaf):\n",
    "    scores = {}\n",
    "    for msl in para_min_samples_leaf:\n",
    "        print(msl)\n",
    "        clf = RandomForestClassifier(max_depth = 23, max_features = 'sqrt', min_samples_leaf = msl, n_jobs = -1, n_estimators = 100)\n",
    "        score = cross_val_score(clf, X_train, X_train_label, cv = 5, scoring = 'neg_log_loss')\n",
    "        scores[msl] = np.mean(score)\n",
    "    print(\"result for adjusting min_samples_leaf:\")\n",
    "    print(scores)"
   ]
  },
  {
   "cell_type": "code",
   "execution_count": 40,
   "metadata": {
    "scrolled": true
   },
   "outputs": [
    {
     "name": "stdout",
     "output_type": "stream",
     "text": [
      "1\n",
      "2\n",
      "3\n",
      "4\n",
      "5\n",
      "result for adjusting min_samples_leaf:\n",
      "{1: -0.6408824276773185, 2: -0.6387155812563519, 3: -0.639927523483716, 4: -0.6425412810398413, 5: -0.6445246238068332}\n"
     ]
    }
   ],
   "source": [
    "para_min_samples_leaf = [1,2,3,4,5]\n",
    "min_samples_leaf_cv(X_train, X_train_label, para_min_samples_leaf)"
   ]
  },
  {
   "cell_type": "markdown",
   "metadata": {},
   "source": [
    "From observation, take min_samples_leaf = 2"
   ]
  },
  {
   "cell_type": "markdown",
   "metadata": {},
   "source": [
    "Adjust min_samples_split"
   ]
  },
  {
   "cell_type": "code",
   "execution_count": 50,
   "metadata": {},
   "outputs": [],
   "source": [
    "def min_samples_split_cv(X_train, X_train_label, para_min_samples_split):\n",
    "    scores = {}\n",
    "    for mss in para_min_samples_split:\n",
    "        print(mss)\n",
    "        clf = RandomForestClassifier(max_depth = 23, max_features = 'sqrt', min_samples_leaf = 2, min_samples_split = mss, n_jobs = -1, n_estimators = 100)\n",
    "        score = cross_val_score(clf, X_train, X_train_label, cv = 5, scoring = 'neg_log_loss')\n",
    "        scores[mss] = np.mean(score)\n",
    "    print(\"result for adjusting min_samples_split:\")\n",
    "    print(scores)"
   ]
  },
  {
   "cell_type": "code",
   "execution_count": 51,
   "metadata": {},
   "outputs": [
    {
     "name": "stdout",
     "output_type": "stream",
     "text": [
      "2\n",
      "3\n",
      "4\n",
      "5\n",
      "6\n",
      "result for adjusting min_samples_split:\n",
      "{2: -0.6381046200245849, 3: -0.6396821983132707, 4: -0.6393962050601412, 5: -0.6402418766724735, 6: -0.6405613628563733}\n"
     ]
    }
   ],
   "source": [
    "para_min_samples_split = [2,3,4,5,6]\n",
    "min_samples_split_cv(X_train, X_train_label, para_min_samples_split)"
   ]
  },
  {
   "cell_type": "markdown",
   "metadata": {},
   "source": [
    "From observation, take min_sample_split = 2"
   ]
  },
  {
   "cell_type": "markdown",
   "metadata": {},
   "source": [
    "Adjust n_estimators"
   ]
  },
  {
   "cell_type": "code",
   "execution_count": 52,
   "metadata": {},
   "outputs": [],
   "source": [
    "def n_estimators_cv(X_train, X_train_label, para_n_estimators):\n",
    "    scores = {}\n",
    "    for ne in para_n_estimators:\n",
    "        print(ne)\n",
    "        clf = RandomForestClassifier(max_depth = 23, max_features = 'sqrt', min_samples_leaf = 2, min_samples_split = 2, n_jobs = -1, n_estimators = ne)\n",
    "        score = cross_val_score(clf, X_train, X_train_label, cv = 5, scoring = 'neg_log_loss')\n",
    "        scores[ne] = np.mean(score)\n",
    "    print(\"result for adjusting n_estimators:\")\n",
    "    print(scores)"
   ]
  },
  {
   "cell_type": "code",
   "execution_count": 53,
   "metadata": {},
   "outputs": [
    {
     "name": "stdout",
     "output_type": "stream",
     "text": [
      "100\n",
      "200\n",
      "400\n",
      "800\n",
      "1000\n",
      "1200\n",
      "1400\n",
      "1600\n",
      "1800\n",
      "2000\n",
      "result for adjusting n_estimators:\n",
      "{100: -0.6391772146662607, 200: -0.6377237299650621, 400: -0.636591891295198, 800: -0.6358188798452, 1000: -0.6356379280188815, 1200: -0.6358444269339177, 1400: -0.6357993089913887, 1600: -0.6356194622040698, 1800: -0.635542585644009, 2000: -0.6357002909343046}\n"
     ]
    }
   ],
   "source": [
    "para_n_estimators = [100, 200, 400, 800, 1000, 1200, 1400, 1600, 1800, 2000]\n",
    "n_estimators_cv(X_train, X_train_label, para_n_estimators)"
   ]
  },
  {
   "cell_type": "markdown",
   "metadata": {},
   "source": [
    "From observation, take n_estimators = 1000"
   ]
  },
  {
   "cell_type": "markdown",
   "metadata": {},
   "source": [
    "Modify the dataset and have several attempts"
   ]
  },
  {
   "cell_type": "code",
   "execution_count": 58,
   "metadata": {},
   "outputs": [],
   "source": [
    "# X_train1 (49352, 17) X_test1 (74659, 17)\n",
    "X_train1 = X_train[['bathrooms','bedrooms','price_modify','latitude_modify','longitude_modify','photos_number','cats_allowed(f)','children(f)','dogs_allowed(f)','doorman(f)','fitness(f)','wifi_access(f)','access(d)','fitness(d)','year','month','day']]\n",
    "X_test1 = X_test[['bathrooms','bedrooms','price_modify','latitude_modify','longitude_modify','photos_number','cats_allowed(f)','children(f)','dogs_allowed(f)','doorman(f)','fitness(f)','wifi_access(f)','access(d)','fitness(d)','year','month','day']]\n",
    "# X_train2 (49352, 7) X_test2 (74659, 7)\n",
    "X_train2 = X_train[['price_modify','latitude_modify','longitude_modify','photos_number','cats_allowed(f)','dogs_allowed(f)','wifi_access(f)']]\n",
    "X_test2 = X_test[['price_modify','latitude_modify','longitude_modify','photos_number','cats_allowed(f)','dogs_allowed(f)','wifi_access(f)']]"
   ]
  },
  {
   "cell_type": "markdown",
   "metadata": {},
   "source": [
    "attempt 1"
   ]
  },
  {
   "cell_type": "code",
   "execution_count": 56,
   "metadata": {},
   "outputs": [
    {
     "data": {
      "text/plain": [
       "RandomForestClassifier(bootstrap=True, class_weight=None, criterion='gini',\n",
       "                       max_depth=23, max_features='sqrt', max_leaf_nodes=None,\n",
       "                       min_impurity_decrease=0.0, min_impurity_split=None,\n",
       "                       min_samples_leaf=2, min_samples_split=2,\n",
       "                       min_weight_fraction_leaf=0.0, n_estimators=1000,\n",
       "                       n_jobs=-1, oob_score=True, random_state=None, verbose=0,\n",
       "                       warm_start=False)"
      ]
     },
     "execution_count": 56,
     "metadata": {},
     "output_type": "execute_result"
    }
   ],
   "source": [
    "clf2 = RandomForestClassifier(max_depth = 23, max_features = 'sqrt', min_samples_leaf = 2, min_samples_split = 2, n_jobs = -1, n_estimators = 1000, oob_score = True)\n",
    "clf2.fit(X_train, X_train_label)"
   ]
  },
  {
   "cell_type": "code",
   "execution_count": 57,
   "metadata": {},
   "outputs": [],
   "source": [
    "#test performance - submission2\n",
    "Y_prediction = clf2.predict_proba(X_test)\n",
    "y = pd.DataFrame(Y_prediction)\n",
    "y.reset_index(drop = True, inplace = True)\n",
    "ids = test['listing_id']\n",
    "ids.reset_index(drop = True, inplace = True)\n",
    "out = pd.concat([ids, y], axis = 1, ignore_index = True)\n",
    "out.columns = ['listing_id', 'high', 'low', 'medium']\n",
    "out = out[['listing_id', 'high', 'medium', 'low']]\n",
    "submission_file = open(\"submission2.csv\",\"w\")\n",
    "out.to_csv('submission2.csv', index = False)\n",
    "submission_file.close()"
   ]
  },
  {
   "cell_type": "markdown",
   "metadata": {},
   "source": [
    "score = 0.63623/0.63288"
   ]
  },
  {
   "cell_type": "markdown",
   "metadata": {},
   "source": [
    "attempt 2"
   ]
  },
  {
   "cell_type": "code",
   "execution_count": 63,
   "metadata": {},
   "outputs": [
    {
     "data": {
      "text/plain": [
       "RandomForestClassifier(bootstrap=True, class_weight=None, criterion='gini',\n",
       "                       max_depth=23, max_features='sqrt', max_leaf_nodes=None,\n",
       "                       min_impurity_decrease=0.0, min_impurity_split=None,\n",
       "                       min_samples_leaf=2, min_samples_split=2,\n",
       "                       min_weight_fraction_leaf=0.0, n_estimators=1000,\n",
       "                       n_jobs=-1, oob_score=True, random_state=None, verbose=0,\n",
       "                       warm_start=False)"
      ]
     },
     "execution_count": 63,
     "metadata": {},
     "output_type": "execute_result"
    }
   ],
   "source": [
    "# train for X_train1\n",
    "clf3 = RandomForestClassifier(max_depth = 23, max_features = 'sqrt', min_samples_leaf = 2, min_samples_split = 2, n_jobs = -1, n_estimators = 1000, oob_score = True)\n",
    "clf3.fit(X_train1, X_train_label)"
   ]
  },
  {
   "cell_type": "code",
   "execution_count": 64,
   "metadata": {},
   "outputs": [],
   "source": [
    "#test performance - submission3\n",
    "Y_prediction = clf3.predict_proba(X_test1)\n",
    "y = pd.DataFrame(Y_prediction)\n",
    "y.reset_index(drop = True, inplace = True)\n",
    "ids = test['listing_id']\n",
    "ids.reset_index(drop = True, inplace = True)\n",
    "out = pd.concat([ids, y], axis = 1, ignore_index = True)\n",
    "out.columns = ['listing_id', 'high', 'low', 'medium']\n",
    "out = out[['listing_id', 'high', 'medium', 'low']]\n",
    "submission_file = open(\"submission3.csv\",\"w\")\n",
    "out.to_csv('submission3.csv', index = False)\n",
    "submission_file.close()"
   ]
  },
  {
   "cell_type": "markdown",
   "metadata": {},
   "source": [
    "score = 0.63518/0.63393"
   ]
  },
  {
   "cell_type": "markdown",
   "metadata": {},
   "source": [
    "attempt 3"
   ]
  },
  {
   "cell_type": "code",
   "execution_count": 66,
   "metadata": {},
   "outputs": [
    {
     "data": {
      "text/plain": [
       "RandomForestClassifier(bootstrap=True, class_weight=None, criterion='gini',\n",
       "                       max_depth=23, max_features='sqrt', max_leaf_nodes=None,\n",
       "                       min_impurity_decrease=0.0, min_impurity_split=None,\n",
       "                       min_samples_leaf=2, min_samples_split=2,\n",
       "                       min_weight_fraction_leaf=0.0, n_estimators=1000,\n",
       "                       n_jobs=-1, oob_score=True, random_state=None, verbose=0,\n",
       "                       warm_start=False)"
      ]
     },
     "execution_count": 66,
     "metadata": {},
     "output_type": "execute_result"
    }
   ],
   "source": [
    "# train for X_train2\n",
    "clf3.fit(X_train2, X_train_label)"
   ]
  },
  {
   "cell_type": "code",
   "execution_count": 67,
   "metadata": {},
   "outputs": [],
   "source": [
    "#test performance - submission4\n",
    "Y_prediction = clf3.predict_proba(X_test2)\n",
    "y = pd.DataFrame(Y_prediction)\n",
    "y.reset_index(drop = True, inplace = True)\n",
    "ids = test['listing_id']\n",
    "ids.reset_index(drop = True, inplace = True)\n",
    "out = pd.concat([ids, y], axis = 1, ignore_index = True)\n",
    "out.columns = ['listing_id', 'high', 'low', 'medium']\n",
    "out = out[['listing_id', 'high', 'medium', 'low']]\n",
    "submission_file = open(\"submission4.csv\",\"w\")\n",
    "out.to_csv('submission4.csv', index = False)\n",
    "submission_file.close()"
   ]
  },
  {
   "cell_type": "markdown",
   "metadata": {},
   "source": [
    "score = 0.67949/0.67659"
   ]
  },
  {
   "cell_type": "markdown",
   "metadata": {},
   "source": [
    "feature selection again for dataset modification"
   ]
  },
  {
   "cell_type": "code",
   "execution_count": 71,
   "metadata": {},
   "outputs": [
    {
     "name": "stderr",
     "output_type": "stream",
     "text": [
      "C:\\AAA\\lib\\site-packages\\sklearn\\ensemble\\forest.py:245: FutureWarning: The default value of n_estimators will change from 10 in version 0.20 to 100 in 0.22.\n",
      "  \"10 in version 0.20 to 100 in 0.22.\", FutureWarning)\n"
     ]
    }
   ],
   "source": [
    "# feature selection\n",
    "fsclf = ExtraTreesClassifier()\n",
    "fsclf = fsclf.fit(X_train, X_train_label)"
   ]
  },
  {
   "cell_type": "code",
   "execution_count": 76,
   "metadata": {},
   "outputs": [],
   "source": [
    "names = X_train.columns"
   ]
  },
  {
   "cell_type": "code",
   "execution_count": 80,
   "metadata": {},
   "outputs": [],
   "source": [
    "sorted_features = sorted(zip(fsclf.feature_importances_, names), reverse=True)"
   ]
  },
  {
   "cell_type": "code",
   "execution_count": 81,
   "metadata": {
    "scrolled": true
   },
   "outputs": [
    {
     "name": "stdout",
     "output_type": "stream",
     "text": [
      "Features sorted by their score:\n",
      "[(0.0711695287695152, 'day'), (0.05450367870480839, 'price_modify'), (0.03906865567701848, 'month'), (0.029914051613752983, 'photos_number'), (0.029126974764303724, 'longitude_modify'), (0.029126692478852183, 'latitude_modify'), (0.02357405220973023, 'bedrooms'), (0.014396529195421618, 'apartment(d)'), (0.013824412291639521, 'of(d)'), (0.013220341547506018, 'hardwood_floors(f)'), (0.012713775495914553, 'no_fee(f)'), (0.0119409825455052, 'bedroom(d)'), (0.011931231693536973, 'on(d)'), (0.010800906258088537, 'renovated(d)'), (0.01068996246302428, 'call(d)'), (0.010634241706851675, 'large(d)'), (0.010621333146472865, 'hardwood(d)'), (0.01044539919707921, 'all(d)'), (0.01037712215793301, 'kitchen(d)'), (0.010366844055233854, 'great(d)'), (0.010363343231101819, 'building(d)'), (0.010256006161386524, 'laundry_in_building(f)'), (0.009621464018525965, 'bathrooms'), (0.00931708945566646, 'high(d)'), (0.00926987561848987, 'email(d)'), (0.009262111485168145, 'laundry(d)'), (0.009252269034102492, 'doorman(f)'), (0.009214887955964696, 'living(d)'), (0.009196432594590137, 'spacious(d)'), (0.009154671842260967, 'beautiful(d)'), (0.008939177962544145, 'located(d)'), (0.00885335069998272, 'east(d)'), (0.008780478560774928, 'one(d)'), (0.008763856703720924, 'no(d)'), (0.008610982697846171, 'contact(d)'), (0.008511889851329908, 'full(d)'), (0.008500596522726753, 'has(d)'), (0.00820496862884661, 'steel(d)'), (0.008100401416955401, 'elevator(f)'), (0.007926856099544072, 'stainless(d)'), (0.007913078112754258, 'text(d)'), (0.00788990911462223, 'room(d)'), (0.007858576425886252, 'unit(d)'), (0.007818175343046978, 'studio(d)'), (0.00779308691903899, 'private(d)'), (0.007696163990631703, 'close(d)'), (0.007693928726539259, 'marble(d)'), (0.007677839371590063, 'granite(d)'), (0.00767697609193692, 'closet(d)'), (0.007615331351362692, 'dishwasher(f)'), (0.007528310267042029, 'bathroom(d)'), (0.007497885259636783, 'laundry_in_unit(f)'), (0.0074910931127324335, 'amazing(d)'), (0.007377980874616591, 'space(d)'), (0.007291911179893347, 'cats_allowed(f)'), (0.0071003792609900225, 'steps(d)'), (0.007061205183026396, 'appliances(d)'), (0.006978947025713338, 'dogs_allowed(f)'), (0.006931142370597368, 'floors(d)'), (0.006859535958275575, 'schedule(d)'), (0.006838681197712665, 'available(d)'), (0.006779597693742296, 'west(d)'), (0.006778538535764387, 'have(d)'), (0.006704209826011512, 'size(d)'), (0.006696279126987835, 'two(d)'), (0.006496683304482856, 'access(d)'), (0.0064040379245958986, 'central(d)'), (0.006378310337904575, 'floor(d)'), (0.006292492399067172, 'windows(d)'), (0.006262475794898163, 'please(d)'), (0.006143415595028827, 'heart(d)'), (0.006112026175941998, 'free(d)'), (0.006090325999439239, 'subway(d)'), (0.0060724789746344375, 'modern(d)'), (0.0058243698826128875, 'open(d)'), (0.0057928370140125805, 'including(d)'), (0.005540162809332289, 'luxury(d)'), (0.005231858793748348, 'reduced_fee(f)'), (0.004998532195396092, 'fitness_center(f)'), (0.004995437660789295, 'city(d)'), (0.00492196490973276, 'information(d)'), (0.00489203056435349, 'york(d)'), (0.004792976535462925, 'apartments(d)'), (0.004757347653597669, 'doorman(d)'), (0.004570359324131452, 'broker(d)'), (0.004497514766040626, 'dining_room(f)'), (0.004400355313833337, 'outdoor_space(f)'), (0.004249851047705417, 'fitness(d)'), (0.004236370750403588, 'estate(d)'), (0.004183130304374821, 'real(d)'), (0.0040560302704127586, 'roof_deck(f)'), (0.003831678984267342, 'exclusive(f)'), (0.0035169897709579055, 'furnished(f)'), (0.0034768336637106823, 'high_speed_internet(f)'), (0.003189583195214741, 'loft(f)'), (0.003142157278044423, 'balcony(f)'), (0.002697429249167628, 'common_outdoor_space(f)'), (0.0025957272042894343, 'new_construction(f)'), (0.002478637571030496, 'swimming_pool(f)'), (0.002426888993510147, 'terrace(f)'), (0.0024111089817932677, 'patio(f)'), (0.0023946837576256834, 'private_outdoor_space(f)'), (0.0023790030027022917, 'garden(f)'), (0.002338293600321743, 'supports(d)'), (0.002260464920393606, 'equal(d)'), (0.0019634843800876304, 'housing(d)'), (0.0017228112726624515, 'fireplace(f)'), (0.0016834361365288086, 'wheelchair_access(f)'), (0.001481918323820093, 'parking_space(f)'), (0.0010956981046200492, 'level(f)'), (0.001072188676982964, 'prewar(f)'), (0.0010294226281547616, 'simplex(f)'), (0.0009676174493970459, 'multi(f)'), (0.0008076015968018475, 'high_ceilings(f)'), (0.0007667470794454187, 'granite_kitchen(f)'), (0.0007394630919780578, 'laundry_room(f)'), (0.0007233609431553257, 'short_term_allowed(f)'), (0.0007052167372972786, 'renovated(f)'), (0.0006867089223598497, 'roof(f)'), (0.0006624339707637134, 'newly_renovated(f)'), (0.0006565868284804189, 'garage(f)'), (0.0006271237783910431, 'pets_on_approval(f)'), (0.0006151624347728273, 'hardwood(f)'), (0.0006007418449752146, 'site_laundry(f)'), (0.0005517424827311688, 'actual_apt(f)'), (0.0005297838213810236, 'lowrise(f)'), (0.0005207200819055079, '_photos(f)'), (0.0005129464825734721, 'publicoutdoor(f)'), (0.0004580385363150754, 'stainless_steel_appliances(f)'), (0.0004570995308075611, 'live(f)'), (0.00044089087037981487, 'high_ceiling(f)'), (0.0004231861285545867, 'exposed_brick(f)'), (0.00040900790683392606, 'no_pets(f)'), (0.00040671566938729336, 'washer(f)'), (0.00035309579061548036, 'pool(f)'), (0.00033055085236505347, 'dryer_in_unit(f)'), (0.00032793601371822607, 'storage(f)'), (0.0003262816399338664, 'green_building(f)'), (0.000320564068316205, 'concierge(f)'), (0.0003058429776312523, 'dryer(f)'), (0.0003051657459144944, 'light(f)'), (0.0003049234319143022, 'marble_bath(f)'), (0.00029535876666617777, 'washer_in_unit(f)'), (0.0002875434412528427, 'live_in_super(f)'), (0.0002784931176829537, 'laundry(f)'), (0.00027629104569428344, 'subway(f)'), (0.000272033694724449, 'duplex(f)'), (0.0002699137213741859, 'in_superintendent(f)'), (0.00022199702882410243, 'gym(f)'), (0.00021824776385536776, 'site_garage(f)'), (0.00021314002563234202, 'valet(f)'), (0.00018068698935926763, 'private(f)'), (0.0001755865922349193, 'parking(f)'), (0.00017447267249213536, 'walk_in_closet(f)'), (0.00016946634196173205, 'deck(f)'), (0.000160008779619663, 'eat_in_kitchen(f)'), (0.0001552548692041157, 'lounge(f)'), (0.00014704909660497736, 'bike_room(f)'), (0.00012226588382803524, 'space(f)'), (0.00011372872045301667, 'roofdeck(f)'), (0.00010763115498414535, 'common_roof_deck(f)'), (9.704571610401254e-05, 'outdoor(f)'), (9.325219600107418e-05, 'common_parking(f)'), (8.162439086739925e-05, 'childrens_playroom(f)'), (7.672177797161513e-05, 'view(f)'), (7.337630147338342e-05, 'outdoor_areas(f)'), (6.6049010823958e-05, 'highrise(f)'), (6.57334661496462e-05, 'wifi_access(f)'), (5.4592042974679684e-05, 'time_doorman(f)'), (4.968371801142896e-05, 'residents_lounge(f)'), (4.598246809388377e-05, 'children(f)'), (4.1351491382721945e-05, 'fitness(f)'), (3.6543351035204e-05, 'full(f)'), (3.49380329770921e-05, 'luxury_building(f)'), (2.267478890006733e-05, 'residents_garden(f)'), (0.0, 'year')]\n"
     ]
    }
   ],
   "source": [
    "print(\"Features sorted by their score:\")\n",
    "print(sorted_features)"
   ]
  },
  {
   "cell_type": "code",
   "execution_count": 91,
   "metadata": {},
   "outputs": [
    {
     "data": {
      "text/plain": [
       "['day',\n",
       " 'price_modify',\n",
       " 'month',\n",
       " 'photos_number',\n",
       " 'longitude_modify',\n",
       " 'latitude_modify',\n",
       " 'bedrooms',\n",
       " 'apartment(d)',\n",
       " 'of(d)',\n",
       " 'hardwood_floors(f)',\n",
       " 'no_fee(f)',\n",
       " 'bedroom(d)',\n",
       " 'on(d)',\n",
       " 'renovated(d)',\n",
       " 'call(d)',\n",
       " 'large(d)',\n",
       " 'hardwood(d)',\n",
       " 'all(d)',\n",
       " 'kitchen(d)',\n",
       " 'great(d)',\n",
       " 'building(d)',\n",
       " 'laundry_in_building(f)',\n",
       " 'bathrooms',\n",
       " 'high(d)',\n",
       " 'email(d)',\n",
       " 'laundry(d)',\n",
       " 'doorman(f)',\n",
       " 'living(d)',\n",
       " 'spacious(d)',\n",
       " 'beautiful(d)',\n",
       " 'located(d)',\n",
       " 'east(d)',\n",
       " 'one(d)',\n",
       " 'no(d)',\n",
       " 'contact(d)',\n",
       " 'full(d)',\n",
       " 'has(d)',\n",
       " 'steel(d)',\n",
       " 'elevator(f)',\n",
       " 'stainless(d)',\n",
       " 'text(d)',\n",
       " 'room(d)',\n",
       " 'unit(d)',\n",
       " 'studio(d)',\n",
       " 'private(d)',\n",
       " 'close(d)',\n",
       " 'marble(d)',\n",
       " 'granite(d)',\n",
       " 'closet(d)',\n",
       " 'dishwasher(f)',\n",
       " 'bathroom(d)',\n",
       " 'laundry_in_unit(f)',\n",
       " 'amazing(d)',\n",
       " 'space(d)',\n",
       " 'cats_allowed(f)',\n",
       " 'steps(d)',\n",
       " 'appliances(d)',\n",
       " 'dogs_allowed(f)',\n",
       " 'floors(d)',\n",
       " 'schedule(d)',\n",
       " 'available(d)',\n",
       " 'west(d)',\n",
       " 'have(d)',\n",
       " 'size(d)',\n",
       " 'two(d)',\n",
       " 'access(d)',\n",
       " 'central(d)',\n",
       " 'floor(d)',\n",
       " 'windows(d)',\n",
       " 'please(d)',\n",
       " 'heart(d)',\n",
       " 'free(d)',\n",
       " 'subway(d)',\n",
       " 'modern(d)',\n",
       " 'open(d)',\n",
       " 'including(d)',\n",
       " 'luxury(d)',\n",
       " 'reduced_fee(f)',\n",
       " 'fitness_center(f)',\n",
       " 'city(d)',\n",
       " 'information(d)',\n",
       " 'york(d)',\n",
       " 'apartments(d)',\n",
       " 'doorman(d)',\n",
       " 'broker(d)',\n",
       " 'dining_room(f)',\n",
       " 'outdoor_space(f)',\n",
       " 'fitness(d)',\n",
       " 'estate(d)',\n",
       " 'real(d)',\n",
       " 'roof_deck(f)',\n",
       " 'exclusive(f)',\n",
       " 'furnished(f)',\n",
       " 'high_speed_internet(f)',\n",
       " 'loft(f)',\n",
       " 'balcony(f)',\n",
       " 'common_outdoor_space(f)',\n",
       " 'new_construction(f)',\n",
       " 'swimming_pool(f)',\n",
       " 'terrace(f)']"
      ]
     },
     "execution_count": 91,
     "metadata": {},
     "output_type": "execute_result"
    }
   ],
   "source": [
    "feature_selected = [sorted_features[i][1] for i in range(100)]\n",
    "feature_selected"
   ]
  },
  {
   "cell_type": "markdown",
   "metadata": {},
   "source": [
    "# Performance on Second Version (after modification)"
   ]
  },
  {
   "cell_type": "code",
   "execution_count": 94,
   "metadata": {},
   "outputs": [],
   "source": [
    "#X_train3 from feature selection\n",
    "X_train3 = X_train[feature_selected]\n",
    "X_test3 = X_test[feature_selected]"
   ]
  },
  {
   "cell_type": "code",
   "execution_count": 96,
   "metadata": {},
   "outputs": [
    {
     "data": {
      "text/plain": [
       "RandomForestClassifier(bootstrap=True, class_weight=None, criterion='gini',\n",
       "                       max_depth=23, max_features='sqrt', max_leaf_nodes=None,\n",
       "                       min_impurity_decrease=0.0, min_impurity_split=None,\n",
       "                       min_samples_leaf=2, min_samples_split=2,\n",
       "                       min_weight_fraction_leaf=0.0, n_estimators=1000,\n",
       "                       n_jobs=-1, oob_score=True, random_state=None, verbose=0,\n",
       "                       warm_start=False)"
      ]
     },
     "execution_count": 96,
     "metadata": {},
     "output_type": "execute_result"
    }
   ],
   "source": [
    "# train for X_train3\n",
    "clf3.fit(X_train3, X_train_label)"
   ]
  },
  {
   "cell_type": "code",
   "execution_count": 98,
   "metadata": {},
   "outputs": [
    {
     "name": "stdout",
     "output_type": "stream",
     "text": [
      "scores for 5-fold:\n",
      "[-0.62473865 -0.6282091  -0.62706931 -0.63262806 -0.64356349]\n",
      "mean score:\n",
      "-0.6312417217954053\n"
     ]
    }
   ],
   "source": [
    "def fast_cross_val_score(X_train, X_train_label, clf):\n",
    "    scores = cross_val_score(clf3, X_train, X_train_label, cv = 5, scoring = 'neg_log_loss')\n",
    "    print(\"scores for 5-fold:\")\n",
    "    print(scores)\n",
    "    print(\"mean score:\")\n",
    "    print(np.mean(scores))\n",
    "\n",
    "fast_cross_val_score(X_train3, X_train_label, clf3)"
   ]
  },
  {
   "cell_type": "code",
   "execution_count": 97,
   "metadata": {},
   "outputs": [],
   "source": [
    "#test performance - submission5\n",
    "Y_prediction = clf3.predict_proba(X_test3)\n",
    "y = pd.DataFrame(Y_prediction)\n",
    "y.reset_index(drop = True, inplace = True)\n",
    "ids = test['listing_id']\n",
    "ids.reset_index(drop = True, inplace = True)\n",
    "out = pd.concat([ids, y], axis = 1, ignore_index = True)\n",
    "out.columns = ['listing_id', 'high', 'low', 'medium']\n",
    "out = out[['listing_id', 'high', 'medium', 'low']]\n",
    "submission_file = open(\"submission5.csv\",\"w\")\n",
    "out.to_csv('submission5.csv', index = False)\n",
    "submission_file.close()"
   ]
  },
  {
   "cell_type": "markdown",
   "metadata": {},
   "source": [
    "# Overfitting Check"
   ]
  },
  {
   "cell_type": "markdown",
   "metadata": {},
   "source": [
    "From the parameter adjustment of 'max_depth' from the improvement part, I observed the overfitting case. Now analyse deeper and make a curve."
   ]
  },
  {
   "cell_type": "code",
   "execution_count": 99,
   "metadata": {},
   "outputs": [
    {
     "name": "stdout",
     "output_type": "stream",
     "text": [
      "3\n",
      "5\n",
      "7\n",
      "9\n",
      "11\n",
      "13\n",
      "15\n",
      "17\n",
      "19\n",
      "21\n",
      "23\n",
      "25\n",
      "27\n",
      "29\n",
      "31\n",
      "33\n",
      "35\n",
      "37\n",
      "39\n",
      "41\n"
     ]
    }
   ],
   "source": [
    "ofscores = []\n",
    "for i in range(3,42,2):\n",
    "    print(i)\n",
    "    ofclf = RandomForestClassifier(max_depth = i, max_features = 'sqrt', min_samples_leaf = 2, min_samples_split = 2, n_jobs = -1, n_estimators = 500, oob_score = True)\n",
    "    ofscore = cross_val_score(ofclf,X_train3, X_train_label, cv=5, scoring = 'neg_log_loss').mean()\n",
    "    ofscores.append(ofscore)"
   ]
  },
  {
   "cell_type": "code",
   "execution_count": 112,
   "metadata": {},
   "outputs": [],
   "source": [
    "ofclf = RandomForestClassifier(max_depth = 60, max_features = 'sqrt', min_samples_leaf = 2, min_samples_split = 2, n_jobs = -1, n_estimators = 500, oob_score = True)\n",
    "ofscore = cross_val_score(ofclf,X_train3, X_train_label, cv=5, scoring = 'neg_log_loss').mean()\n",
    "ofscores.append(ofscore)"
   ]
  },
  {
   "cell_type": "code",
   "execution_count": 116,
   "metadata": {},
   "outputs": [
    {
     "name": "stderr",
     "output_type": "stream",
     "text": [
      "No handles with labels found to put in legend.\n"
     ]
    },
    {
     "data": {
      "image/png": "[encoded data removed]",
      "text/plain": [
       "<Figure size 1440x360 with 1 Axes>"
      ]
     },
     "metadata": {
      "needs_background": "light"
     },
     "output_type": "display_data"
    }
   ],
   "source": [
    "import math\n",
    "modify_score = [score for score in ofscores]\n",
    "length = [3,5,7,9,11,13,15,17,19,21,23,25,27,29,31,33,35,37,39,41,60]\n",
    "plt.figure(figsize=[20,5])\n",
    "plt.xlabel('max_depth')\n",
    "plt.ylabel('score')\n",
    "plt.title('overfitting curve')\n",
    "plt.plot(length,modify_score)\n",
    "plt.legend()\n",
    "plt.show()"
   ]
  },
  {
   "cell_type": "markdown",
   "metadata": {},
   "source": [
    "# Confusion Matrix"
   ]
  },
  {
   "cell_type": "code",
   "execution_count": 123,
   "metadata": {},
   "outputs": [
    {
     "data": {
      "image/png": "[encoded data removed]",
      "text/plain": [
       "<Figure size 432x288 with 2 Axes>"
      ]
     },
     "metadata": {
      "needs_background": "light"
     },
     "output_type": "display_data"
    }
   ],
   "source": [
    "X_train5, X_valid, y_train, y_valid = train_test_split(X_train3,X_train_label)\n",
    "clf3.fit(X_train5,y_train)\n",
    "y_pred = clf3.predict(X_valid)\n",
    "def cf_matrix(y_valid,y_pred):\n",
    "    cm = confusion_matrix(y_valid, y_pred, labels = ['high','low','medium'])\n",
    "    cm = pd.DataFrame(cm,columns=['high','low','medium'],index = ['high','low','medium'])\n",
    "    plt.title('Confusion Matrix',fontsize=18)\n",
    "    ax = sns.heatmap(cm,annot=True,cmap='Oranges',fmt='.20g',linewidths = 0)\n",
    "    bottom, top = ax.get_ylim()\n",
    "    ax.set_ylim(bottom + 0.5, top - 0.5)\n",
    "    plt.xlabel('Predicted Label',fontsize=15)\n",
    "    plt.ylabel('True Label',fontsize=15)\n",
    "    \n",
    "cf_matrix(y_valid,y_pred)"
   ]
  },
  {
   "cell_type": "code",
   "execution_count": 124,
   "metadata": {},
   "outputs": [],
   "source": [
    "cm_result = confusion_matrix(y_valid, y_pred, labels = ['high','low','medium'])"
   ]
  },
  {
   "cell_type": "code",
   "execution_count": 125,
   "metadata": {},
   "outputs": [
    {
     "data": {
      "text/plain": [
       "array([[ 142,  603,  250],\n",
       "       [  20, 8263,  293],\n",
       "       [  67, 2202,  498]], dtype=int64)"
      ]
     },
     "execution_count": 125,
     "metadata": {},
     "output_type": "execute_result"
    }
   ],
   "source": [
    "cm_result"
   ]
  },
  {
   "cell_type": "markdown",
   "metadata": {},
   "source": [
    "# Accuracy"
   ]
  },
  {
   "cell_type": "code",
   "execution_count": 127,
   "metadata": {},
   "outputs": [
    {
     "data": {
      "text/plain": [
       "0.5"
      ]
     },
     "execution_count": 127,
     "metadata": {},
     "output_type": "execute_result"
    }
   ],
   "source": [
    " y_pred = [0, 2, 1, 3]\n",
    "y_true = [0, 1, 2, 3]\n",
    "accuracy_score(y_true, y_pred)"
   ]
  },
  {
   "cell_type": "code",
   "execution_count": 133,
   "metadata": {},
   "outputs": [
    {
     "name": "stdout",
     "output_type": "stream",
     "text": [
      "train_index:[    0     1     3 ... 49349 49350 49351];\n",
      "test_index:[    2    10    12 ... 49327 49333 49348]\n"
     ]
    },
    {
     "name": "stderr",
     "output_type": "stream",
     "text": [
      "C:\\AAA\\lib\\site-packages\\ipykernel_launcher.py:8: FutureWarning: \n",
      ".ix is deprecated. Please use\n",
      ".loc for label based indexing or\n",
      ".iloc for positional indexing\n",
      "\n",
      "See the documentation here:\n",
      "http://pandas.pydata.org/pandas-docs/stable/user_guide/indexing.html#ix-indexer-is-deprecated\n",
      "  \n",
      "C:\\AAA\\lib\\site-packages\\ipykernel_launcher.py:9: FutureWarning: \n",
      ".ix is deprecated. Please use\n",
      ".loc for label based indexing or\n",
      ".iloc for positional indexing\n",
      "\n",
      "See the documentation here:\n",
      "http://pandas.pydata.org/pandas-docs/stable/user_guide/indexing.html#ix-indexer-is-deprecated\n",
      "  if __name__ == '__main__':\n"
     ]
    },
    {
     "name": "stdout",
     "output_type": "stream",
     "text": [
      "train_index:[    0     1     2 ... 49348 49350 49351];\n",
      "test_index:[    3     8    11 ... 49336 49346 49349]\n"
     ]
    },
    {
     "name": "stderr",
     "output_type": "stream",
     "text": [
      "C:\\AAA\\lib\\site-packages\\ipykernel_launcher.py:8: FutureWarning: \n",
      ".ix is deprecated. Please use\n",
      ".loc for label based indexing or\n",
      ".iloc for positional indexing\n",
      "\n",
      "See the documentation here:\n",
      "http://pandas.pydata.org/pandas-docs/stable/user_guide/indexing.html#ix-indexer-is-deprecated\n",
      "  \n",
      "C:\\AAA\\lib\\site-packages\\ipykernel_launcher.py:9: FutureWarning: \n",
      ".ix is deprecated. Please use\n",
      ".loc for label based indexing or\n",
      ".iloc for positional indexing\n",
      "\n",
      "See the documentation here:\n",
      "http://pandas.pydata.org/pandas-docs/stable/user_guide/indexing.html#ix-indexer-is-deprecated\n",
      "  if __name__ == '__main__':\n"
     ]
    },
    {
     "name": "stdout",
     "output_type": "stream",
     "text": [
      "train_index:[    1     2     3 ... 49349 49350 49351];\n",
      "test_index:[    0    13    16 ... 49338 49342 49347]\n"
     ]
    },
    {
     "name": "stderr",
     "output_type": "stream",
     "text": [
      "C:\\AAA\\lib\\site-packages\\ipykernel_launcher.py:8: FutureWarning: \n",
      ".ix is deprecated. Please use\n",
      ".loc for label based indexing or\n",
      ".iloc for positional indexing\n",
      "\n",
      "See the documentation here:\n",
      "http://pandas.pydata.org/pandas-docs/stable/user_guide/indexing.html#ix-indexer-is-deprecated\n",
      "  \n",
      "C:\\AAA\\lib\\site-packages\\ipykernel_launcher.py:9: FutureWarning: \n",
      ".ix is deprecated. Please use\n",
      ".loc for label based indexing or\n",
      ".iloc for positional indexing\n",
      "\n",
      "See the documentation here:\n",
      "http://pandas.pydata.org/pandas-docs/stable/user_guide/indexing.html#ix-indexer-is-deprecated\n",
      "  if __name__ == '__main__':\n"
     ]
    },
    {
     "name": "stdout",
     "output_type": "stream",
     "text": [
      "train_index:[    0     2     3 ... 49349 49350 49351];\n",
      "test_index:[    1     4     5 ... 49341 49344 49345]\n"
     ]
    },
    {
     "name": "stderr",
     "output_type": "stream",
     "text": [
      "C:\\AAA\\lib\\site-packages\\ipykernel_launcher.py:8: FutureWarning: \n",
      ".ix is deprecated. Please use\n",
      ".loc for label based indexing or\n",
      ".iloc for positional indexing\n",
      "\n",
      "See the documentation here:\n",
      "http://pandas.pydata.org/pandas-docs/stable/user_guide/indexing.html#ix-indexer-is-deprecated\n",
      "  \n",
      "C:\\AAA\\lib\\site-packages\\ipykernel_launcher.py:9: FutureWarning: \n",
      ".ix is deprecated. Please use\n",
      ".loc for label based indexing or\n",
      ".iloc for positional indexing\n",
      "\n",
      "See the documentation here:\n",
      "http://pandas.pydata.org/pandas-docs/stable/user_guide/indexing.html#ix-indexer-is-deprecated\n",
      "  if __name__ == '__main__':\n"
     ]
    },
    {
     "name": "stdout",
     "output_type": "stream",
     "text": [
      "train_index:[    0     1     2 ... 49347 49348 49349];\n",
      "test_index:[    9    14    15 ... 49343 49350 49351]\n"
     ]
    },
    {
     "name": "stderr",
     "output_type": "stream",
     "text": [
      "C:\\AAA\\lib\\site-packages\\ipykernel_launcher.py:8: FutureWarning: \n",
      ".ix is deprecated. Please use\n",
      ".loc for label based indexing or\n",
      ".iloc for positional indexing\n",
      "\n",
      "See the documentation here:\n",
      "http://pandas.pydata.org/pandas-docs/stable/user_guide/indexing.html#ix-indexer-is-deprecated\n",
      "  \n",
      "C:\\AAA\\lib\\site-packages\\ipykernel_launcher.py:9: FutureWarning: \n",
      ".ix is deprecated. Please use\n",
      ".loc for label based indexing or\n",
      ".iloc for positional indexing\n",
      "\n",
      "See the documentation here:\n",
      "http://pandas.pydata.org/pandas-docs/stable/user_guide/indexing.html#ix-indexer-is-deprecated\n",
      "  if __name__ == '__main__':\n"
     ]
    },
    {
     "name": "stdout",
     "output_type": "stream",
     "text": [
      "scores for 5-fold using accuracy:\n",
      "[0.7245466518083274, 0.7179617060074968, 0.7252279635258359, 0.7113475177304964, 0.7185410334346505]\n",
      "mean score:\n",
      "0.7195249745013614\n"
     ]
    }
   ],
   "source": [
    "#5-fold cross validation\n",
    "def cross_val_score_ac(X_train3, X_train_label, clf3):\n",
    "    rkf = KFold(5,True,1)\n",
    "    scores = []\n",
    "    for train_index, test_index in rkf.split(X_train3):\n",
    "        print(\"train_index:{};\\ntest_index:{}\".format(train_index,test_index))\n",
    "        #Xtrain: train part of tuples; Xtrainlabel: label of train part; Ytest: test part of tuples; Ytestlabel: label of test part\n",
    "        Xtrain, Xtrainlabel = X_train3.ix[train_index], X_train_label.ix[train_index]\n",
    "        Ytest, Ytestlabel = X_train3.ix[test_index], X_train_label.ix[test_index]\n",
    "        clf3.fit(Xtrain, Xtrainlabel)\n",
    "        ypredict = clf3.predict(Ytest)\n",
    "        #print(truelabel)\n",
    "        score = accuracy_score(Ytestlabel, ypredict)\n",
    "        scores.append(score)\n",
    "    print(\"scores for 5-fold using accuracy:\")\n",
    "    print(scores)\n",
    "    print(\"mean score:\")\n",
    "    print(np.mean(scores))\n",
    "\n",
    "cross_val_score_ac(X_train3, X_train_label, clf3)"
   ]
  },
  {
   "cell_type": "code",
   "execution_count": null,
   "metadata": {},
   "outputs": [],
   "source": []
  }
 ],
 "metadata": {
  "kernelspec": {
   "display_name": "Python 3",
   "language": "python",
   "name": "python3"
  },
  "language_info": {
   "codemirror_mode": {
    "name": "ipython",
    "version": 3
   },
   "file_extension": ".py",
   "mimetype": "text/x-python",
   "name": "python",
   "nbconvert_exporter": "python",
   "pygments_lexer": "ipython3",
   "version": "3.7.4"
  }
 },
 "nbformat": 4,
 "nbformat_minor": 2
}
